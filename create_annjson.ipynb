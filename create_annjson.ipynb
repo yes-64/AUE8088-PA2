{
 "cells": [
  {
   "cell_type": "code",
   "execution_count": 57,
   "metadata": {},
   "outputs": [],
   "source": [
    "import os\n",
    "import json"
   ]
  },
  {
   "cell_type": "code",
   "execution_count": 58,
   "metadata": {},
   "outputs": [],
   "source": [
    "images_path = 'datasets/kaist-rgbt/train/images'\n",
    "val_txt_path = 'datasets/kaist-rgbt/val_split.txt'\n",
    "cls_names_path = 'datasets/kaist-rgbt/kaist-rgbt.names'\n",
    "output_path = 'utils/eval/KAIST_annotation.json'"
   ]
  },
  {
   "cell_type": "code",
   "execution_count": 59,
   "metadata": {},
   "outputs": [],
   "source": [
    "images = []\n",
    "annotations = []\n",
    "categories = []\n",
    "image_id = 1"
   ]
  },
  {
   "cell_type": "code",
   "execution_count": 60,
   "metadata": {},
   "outputs": [],
   "source": [
    "# create categories section\n",
    "categories = []\n",
    "with open(cls_names_path, \"r\") as f:\n",
    "    cls = f.readlines()\n",
    "    for idx, cl in enumerate(cls):\n",
    "        cl = cl.strip()\n",
    "        categories.append({\n",
    "            \"id\": idx+1,\n",
    "            \"name\": cl\n",
    "        })"
   ]
  },
  {
   "cell_type": "code",
   "execution_count": 61,
   "metadata": {},
   "outputs": [
    {
     "data": {
      "text/plain": [
       "[{'id': 1, 'name': 'person'},\n",
       " {'id': 2, 'name': 'cyclist'},\n",
       " {'id': 3, 'name': 'people'},\n",
       " {'id': 4, 'name': 'person?'}]"
      ]
     },
     "execution_count": 61,
     "metadata": {},
     "output_type": "execute_result"
    }
   ],
   "source": [
    "categories"
   ]
  },
  {
   "cell_type": "code",
   "execution_count": 72,
   "metadata": {},
   "outputs": [],
   "source": [
    "images = []\n",
    "annotations = []\n",
    "annotation_id = 1\n",
    "image_id = 1\n",
    "with open(val_txt_path, 'r') as f:\n",
    "    labels_list = [f.replace('{}/', '').replace('images', 'labels').replace('jpg', 'txt').rstrip('\\n') for f in f.readlines()]\n",
    "    for labels in labels_list:\n",
    "        images.append({\n",
    "            \"id\": image_id\n",
    "        })\n",
    "        with open(labels, 'r') as file:\n",
    "            for line in file:\n",
    "                parts = line.strip().split()\n",
    "                category_id = int(parts[0]) + 1\n",
    "                bbox = list(map(float, parts[1:5]))\n",
    "                occlusion = int(parts[5])\n",
    "                annotations.append({\n",
    "                        \"id\": annotation_id,\n",
    "                        \"image_id\": image_id,\n",
    "                        \"category_id\": category_id,\n",
    "                        \"bbox\": bbox,\n",
    "                        \"occlusion\": occlusion\n",
    "                    })\n",
    "                annotation_id += 1\n",
    "        image_id += 1"
   ]
  },
  {
   "cell_type": "code",
   "execution_count": 75,
   "metadata": {},
   "outputs": [
    {
     "data": {
      "text/plain": [
       "[{'id': 2504}, {'id': 2505}, {'id': 2506}, {'id': 2507}, {'id': 2508}]"
      ]
     },
     "execution_count": 75,
     "metadata": {},
     "output_type": "execute_result"
    }
   ],
   "source": [
    "images[-5:]\n",
    "# annotations[-5:]"
   ]
  },
  {
   "cell_type": "code",
   "execution_count": 76,
   "metadata": {},
   "outputs": [],
   "source": [
    "final_dict = {\n",
    "    \"annotations\": annotations,\n",
    "    \"images\": images,\n",
    "    \"categories\": categories\n",
    "}"
   ]
  },
  {
   "cell_type": "code",
   "execution_count": 82,
   "metadata": {},
   "outputs": [
    {
     "data": {
      "text/plain": [
       "dict_keys(['annotations', 'images', 'categories'])"
      ]
     },
     "execution_count": 82,
     "metadata": {},
     "output_type": "execute_result"
    }
   ],
   "source": [
    "final_dict.keys()"
   ]
  },
  {
   "cell_type": "code",
   "execution_count": 83,
   "metadata": {},
   "outputs": [],
   "source": [
    "with open(output_path, 'w') as json_file:\n",
    "        json.dump(final_dict, json_file, indent=2)"
   ]
  },
  {
   "cell_type": "code",
   "execution_count": null,
   "metadata": {},
   "outputs": [],
   "source": [
    "import xml.etree.ElementTree as ET\n",
    "import json\n",
    "\n",
    "def xml_to_json(xml_file):\n",
    "    # XML 파일을 파싱\n",
    "    tree = ET.parse(xml_file)\n",
    "    root = tree.getroot()\n",
    "\n",
    "    # JSON 구조를 위한 딕셔너리 생성\n",
    "    json_data = {\n",
    "        \"images\": [],\n",
    "        \"annotations\": [],\n",
    "        \"categories\": [\n",
    "            {\"id\": 0, \"name\": \"person\"},\n",
    "            {\"id\": 1, \"name\": \"cyclist\"},\n",
    "            {\"id\": 2, \"name\": \"people\"},\n",
    "            {\"id\": 3, \"name\": \"person?\"}\n",
    "        ]\n",
    "    }\n",
    "\n",
    "    # 이미지 정보 추출\n",
    "    image_id = 0\n",
    "    json_data[\"images\"].append({\n",
    "        \"id\": image_id,\n",
    "        \"im_name\": root.find('filename').text,\n",
    "        \"height\": int(root.find('size/height').text),\n",
    "        \"width\": int(root.find('size/width').text)\n",
    "    })\n",
    "\n",
    "    # 객체 정보 추출\n",
    "    annotation_id = 0\n",
    "    for obj in root.findall('object'):\n",
    "        bbox = obj.find('bndbox')\n",
    "        x = int(bbox.find('x').text)\n",
    "        y = int(bbox.find('y').text)\n",
    "        w = int(bbox.find('w').text)\n",
    "        h = int(bbox.find('h').text)\n",
    "\n",
    "        json_data[\"annotations\"].append({\n",
    "            \"id\": annotation_id,\n",
    "            \"image_id\": image_id,\n",
    "            \"category_id\": 0,  # \"person\" 클래스 ID\n",
    "            \"bbox\": [x, y, w, h],\n",
    "            \"height\": h,\n",
    "            \"occlusion\": int(obj.find('occlusion').text),\n",
    "            \"ignore\": int(obj.find('difficult').text) if obj.find('difficult') is not None else 0\n",
    "        })\n",
    "        annotation_id += 1\n",
    "\n",
    "    # JSON 파일로 저장\n",
    "    with open('annotation.json', 'w') as outfile:\n",
    "        json.dump(json_data, outfile, indent=4)\n",
    "\n",
    "# XML 파일 이름을 지정하고 함수를 호출\n",
    "xml_to_json('path_to_your_xml_file.xml')"
   ]
  },
  {
   "cell_type": "code",
   "execution_count": 5,
   "metadata": {},
   "outputs": [],
   "source": [
    "import xml.etree.ElementTree as ET\n",
    "import json\n",
    "import os\n",
    "\n",
    "def xml_folder_to_json(folder_path):\n",
    "    # JSON 구조를 위한 딕셔너리 생성\n",
    "    json_data = {\n",
    "        \"images\": [],\n",
    "        \"annotations\": [],\n",
    "        \"categories\": [\n",
    "            {\"id\": 0, \"name\": \"person\"},\n",
    "            {\"id\": 1, \"name\": \"cyclist\"},\n",
    "            {\"id\": 2, \"name\": \"people\"},\n",
    "            {\"id\": 3, \"name\": \"person?\"}\n",
    "        ]\n",
    "    }\n",
    "\n",
    "    name_to_id = {category[\"name\"]: category[\"id\"] for category in json_data[\"categories\"]}\n",
    "    image_id = 0\n",
    "    annotation_id = 0\n",
    "\n",
    "    # 폴더 내의 모든 XML 파일을 처리\n",
    "    for filename in os.listdir(folder_path):\n",
    "        if filename.endswith('.xml'):\n",
    "            xml_file = os.path.join(folder_path, filename)\n",
    "            tree = ET.parse(xml_file)\n",
    "            root = tree.getroot()\n",
    "\n",
    "            # 이미지 정보 추가\n",
    "            json_data[\"images\"].append({\n",
    "                \"id\": image_id,\n",
    "                \"im_name\": root.find('filename').text,\n",
    "                \"height\": int(root.find('size/height').text),\n",
    "                \"width\": int(root.find('size/width').text)\n",
    "            })\n",
    "\n",
    "            # 객체 정보 추출 및 추가\n",
    "            for obj in root.findall('object'):\n",
    "                bbox = obj.find('bndbox')\n",
    "                x = int(bbox.find('x').text)\n",
    "                y = int(bbox.find('y').text)\n",
    "                w = int(bbox.find('w').text)\n",
    "                h = int(bbox.find('h').text)\n",
    "\n",
    "                json_data[\"annotations\"].append({\n",
    "                    \"id\": annotation_id,\n",
    "                    \"image_id\": image_id,\n",
    "                    \"category_id\": int(name_to_id.get(obj.find('name').text)), \n",
    "                    \"bbox\": [x, y, w, h],\n",
    "                    \"height\": h,\n",
    "                    \"occlusion\": int(obj.find('occlusion').text),\n",
    "                    \"ignore\": int(obj.find('difficult').text) if obj.find('difficult') is not None else 0\n",
    "                })\n",
    "                annotation_id += 1\n",
    "\n",
    "            # 다음 이미지로 넘어가기 전에 이미지 ID를 증가\n",
    "            image_id += 1\n",
    "\n",
    "    # JSON 파일로 저장\n",
    "    with open('utils/eval/KAIST_annotation.json', 'w') as outfile:\n",
    "        json.dump(json_data, outfile, indent=4)\n",
    "\n",
    "# 폴더 경로를 지정하여 함수 호출\n",
    "xml_folder_to_json('datasets/kaist-rgbt/train/labels-xml')"
   ]
  },
  {
   "cell_type": "code",
   "execution_count": 4,
   "metadata": {},
   "outputs": [
    {
     "name": "stdout",
     "output_type": "stream",
     "text": [
      "{'person': 0, 'cyclist': 1, 'people': 2, 'person?': 3}\n"
     ]
    }
   ],
   "source": [
    "json_data = {\n",
    "        \"images\": [],\n",
    "        \"annotations\": [],\n",
    "        \"categories\": [\n",
    "            {\"id\": 0, \"name\": \"person\"},\n",
    "            {\"id\": 1, \"name\": \"cyclist\"},\n",
    "            {\"id\": 2, \"name\": \"people\"},\n",
    "            {\"id\": 3, \"name\": \"person?\"}\n",
    "        ]\n",
    "    }\n",
    "name_to_id = {category[\"name\"]: category[\"id\"] for category in json_data[\"categories\"]}\n",
    "print(name_to_id)"
   ]
  },
  {
   "cell_type": "code",
   "execution_count": null,
   "metadata": {},
   "outputs": [],
   "source": []
  }
 ],
 "metadata": {
  "kernelspec": {
   "display_name": "Python 3",
   "language": "python",
   "name": "python3"
  },
  "language_info": {
   "codemirror_mode": {
    "name": "ipython",
    "version": 3
   },
   "file_extension": ".py",
   "mimetype": "text/x-python",
   "name": "python",
   "nbconvert_exporter": "python",
   "pygments_lexer": "ipython3",
   "version": "3.8.10"
  }
 },
 "nbformat": 4,
 "nbformat_minor": 2
}
